{
 "cells": [
  {
   "cell_type": "markdown",
   "id": "96fe6c68",
   "metadata": {},
   "source": [
    "<h1 style=\"color:darkgreen; text-align:center; text-decoration: underline;\">AIDI1005 - AI for Decision Making</h1>"
   ]
  },
  {
   "cell_type": "markdown",
   "id": "98ac74e4",
   "metadata": {},
   "source": [
    "####  Loading the Dataset\n",
    "--------\n",
    "We start by loading the dataset (reduced_imdb_movie_reviews.csv) containing movie reviews and their corresponding sentiment labels using pandas. We display the first few rows of the dataset to understand its structure."
   ]
  },
  {
   "cell_type": "code",
   "execution_count": 1,
   "id": "f5a7b95b",
   "metadata": {},
   "outputs": [
    {
     "data": {
      "text/html": [
       "<div>\n",
       "<style scoped>\n",
       "    .dataframe tbody tr th:only-of-type {\n",
       "        vertical-align: middle;\n",
       "    }\n",
       "\n",
       "    .dataframe tbody tr th {\n",
       "        vertical-align: top;\n",
       "    }\n",
       "\n",
       "    .dataframe thead th {\n",
       "        text-align: right;\n",
       "    }\n",
       "</style>\n",
       "<table border=\"1\" class=\"dataframe\">\n",
       "  <thead>\n",
       "    <tr style=\"text-align: right;\">\n",
       "      <th></th>\n",
       "      <th>review</th>\n",
       "      <th>sentiment</th>\n",
       "    </tr>\n",
       "  </thead>\n",
       "  <tbody>\n",
       "    <tr>\n",
       "      <th>0</th>\n",
       "      <td>I thought this was a wonderful way to spend ti...</td>\n",
       "      <td>positive</td>\n",
       "    </tr>\n",
       "    <tr>\n",
       "      <th>1</th>\n",
       "      <td>Probably my all-time favorite movie, a story o...</td>\n",
       "      <td>positive</td>\n",
       "    </tr>\n",
       "    <tr>\n",
       "      <th>2</th>\n",
       "      <td>I sure would like to see a resurrection of a u...</td>\n",
       "      <td>positive</td>\n",
       "    </tr>\n",
       "    <tr>\n",
       "      <th>3</th>\n",
       "      <td>This show was an amazing, fresh &amp; innovative i...</td>\n",
       "      <td>negative</td>\n",
       "    </tr>\n",
       "    <tr>\n",
       "      <th>4</th>\n",
       "      <td>Encouraged by the positive comments about this...</td>\n",
       "      <td>negative</td>\n",
       "    </tr>\n",
       "  </tbody>\n",
       "</table>\n",
       "</div>"
      ],
      "text/plain": [
       "                                              review sentiment\n",
       "0  I thought this was a wonderful way to spend ti...  positive\n",
       "1  Probably my all-time favorite movie, a story o...  positive\n",
       "2  I sure would like to see a resurrection of a u...  positive\n",
       "3  This show was an amazing, fresh & innovative i...  negative\n",
       "4  Encouraged by the positive comments about this...  negative"
      ]
     },
     "execution_count": 1,
     "metadata": {},
     "output_type": "execute_result"
    }
   ],
   "source": [
    "import pandas as pd\n",
    "\n",
    "# Load the dataset\n",
    "file_path = r'C:\\AIDI\\Semester 1\\Assignments\\AI for Decision Making\\Project 3\\IMDB_dataset.csv'\n",
    "data = pd.read_csv(file_path)\n",
    "\n",
    "# Display the first few rows of the dataset\n",
    "data.head()"
   ]
  },
  {
   "cell_type": "code",
   "execution_count": 2,
   "id": "09322f32",
   "metadata": {},
   "outputs": [
    {
     "data": {
      "text/plain": [
       "sentiment\n",
       "positive    12500\n",
       "negative    12500\n",
       "Name: count, dtype: int64"
      ]
     },
     "execution_count": 2,
     "metadata": {},
     "output_type": "execute_result"
    }
   ],
   "source": [
    "# Check the distribution of sentiments\n",
    "sentiment_counts = data['sentiment'].value_counts()\n",
    "sentiment_counts\n"
   ]
  },
  {
   "cell_type": "code",
   "execution_count": 3,
   "id": "5c927613",
   "metadata": {},
   "outputs": [
    {
     "data": {
      "text/plain": [
       "(8000, 2)"
      ]
     },
     "execution_count": 3,
     "metadata": {},
     "output_type": "execute_result"
    }
   ],
   "source": [
    "# Ensure there are at least 3000 positive and negative reviews\n",
    "positive_reviews = data[data['sentiment'] == 'positive'].sample(n=4000, random_state=42)\n",
    "negative_reviews = data[data['sentiment'] == 'negative'].sample(n=4000, random_state=42)\n",
    "\n",
    "# Combine the reduced datasets\n",
    "reduced_data = pd.concat([positive_reviews, negative_reviews])\n",
    "\n",
    "# Shuffle the dataset to mix positive and negative reviews\n",
    "reduced_data = reduced_data.sample(frac=1, random_state=42).reset_index(drop=True)\n",
    "\n",
    "# Save the reduced dataset\n",
    "reduced_data.to_csv(r'C:\\AIDI\\Semester 1\\Assignments\\AI for Decision Making\\Project 3\\reduced_imdb_movie_reviews.csv', index=False)\n",
    "\n",
    "# Display the shape of the reduced dataset\n",
    "reduced_data.shape"
   ]
  },
  {
   "cell_type": "markdown",
   "id": "e8473a44",
   "metadata": {},
   "source": [
    "This reduces the dataset to a manageable size, and saves it for further analysis or modeling.\n",
    "\n",
    "------------"
   ]
  },
  {
   "cell_type": "code",
   "execution_count": 4,
   "id": "3f207346",
   "metadata": {},
   "outputs": [
    {
     "data": {
      "text/plain": [
       "sentiment\n",
       "positive    4000\n",
       "negative    4000\n",
       "Name: count, dtype: int64"
      ]
     },
     "execution_count": 4,
     "metadata": {},
     "output_type": "execute_result"
    }
   ],
   "source": [
    "# Check the distribution of sentiments in the reduced dataset\n",
    "reduced_sentiment_counts = reduced_data['sentiment'].value_counts()\n",
    "reduced_sentiment_counts"
   ]
  },
  {
   "cell_type": "markdown",
   "id": "57390101",
   "metadata": {},
   "source": [
    "This confirms that the dataset is balanced and contains an equal number of positive and negative reviews.\n",
    "\n",
    "-------"
   ]
  },
  {
   "cell_type": "code",
   "execution_count": 5,
   "id": "7e0606f2",
   "metadata": {},
   "outputs": [
    {
     "data": {
      "text/html": [
       "<div>\n",
       "<style scoped>\n",
       "    .dataframe tbody tr th:only-of-type {\n",
       "        vertical-align: middle;\n",
       "    }\n",
       "\n",
       "    .dataframe tbody tr th {\n",
       "        vertical-align: top;\n",
       "    }\n",
       "\n",
       "    .dataframe thead th {\n",
       "        text-align: right;\n",
       "    }\n",
       "</style>\n",
       "<table border=\"1\" class=\"dataframe\">\n",
       "  <thead>\n",
       "    <tr style=\"text-align: right;\">\n",
       "      <th></th>\n",
       "      <th>review</th>\n",
       "      <th>sentiment</th>\n",
       "    </tr>\n",
       "  </thead>\n",
       "  <tbody>\n",
       "    <tr>\n",
       "      <th>0</th>\n",
       "      <td>Filmed by MGM on the same sets as the English ...</td>\n",
       "      <td>positive</td>\n",
       "    </tr>\n",
       "    <tr>\n",
       "      <th>1</th>\n",
       "      <td>From what I've read a lot of people were disap...</td>\n",
       "      <td>positive</td>\n",
       "    </tr>\n",
       "    <tr>\n",
       "      <th>2</th>\n",
       "      <td>In following the lines of the classic formula ...</td>\n",
       "      <td>positive</td>\n",
       "    </tr>\n",
       "    <tr>\n",
       "      <th>3</th>\n",
       "      <td>The first \"side-story\" in the universal centur...</td>\n",
       "      <td>positive</td>\n",
       "    </tr>\n",
       "    <tr>\n",
       "      <th>4</th>\n",
       "      <td>Please make me forget. Please. Please. This is...</td>\n",
       "      <td>negative</td>\n",
       "    </tr>\n",
       "  </tbody>\n",
       "</table>\n",
       "</div>"
      ],
      "text/plain": [
       "                                              review sentiment\n",
       "0  Filmed by MGM on the same sets as the English ...  positive\n",
       "1  From what I've read a lot of people were disap...  positive\n",
       "2  In following the lines of the classic formula ...  positive\n",
       "3  The first \"side-story\" in the universal centur...  positive\n",
       "4  Please make me forget. Please. Please. This is...  negative"
      ]
     },
     "execution_count": 5,
     "metadata": {},
     "output_type": "execute_result"
    }
   ],
   "source": [
    "# Load the reduced dataset\n",
    "file_path = r'C:\\AIDI\\Semester 1\\Assignments\\AI for Decision Making\\Project 3\\reduced_imdb_movie_reviews.csv'\n",
    "data = pd.read_csv(file_path)\n",
    "\n",
    "# Display the first few rows of the dataset\n",
    "data.head()"
   ]
  },
  {
   "cell_type": "markdown",
   "id": "73d44a3a",
   "metadata": {},
   "source": [
    "####  Text Preprocessing\n",
    "----------------\n",
    "The text preprocessing performed on the dataset serves the following purposes:\n",
    "\n",
    "1. **Remove Noise**: Punctuation, stopwords (e.g., \"the,\" \"is\"), and irrelevant words are removed to ensure the text focuses on important content.\n",
    "2. **Text Normalization**: Converting all words to lowercase and applying lemmatization (reducing words to their base forms) helps standardize the text, making it consistent for analysis."
   ]
  },
  {
   "cell_type": "code",
   "execution_count": 8,
   "id": "97f98a95",
   "metadata": {},
   "outputs": [],
   "source": [
    "import numpy as np\n",
    "import re\n",
    "import nltk\n",
    "from nltk.corpus import stopwords\n",
    "from nltk.stem import WordNetLemmatizer\n",
    "from sklearn.model_selection import train_test_split, GridSearchCV\n",
    "from sklearn.ensemble import RandomForestClassifier, GradientBoostingClassifier\n",
    "from sklearn.feature_extraction.text import TfidfVectorizer\n",
    "from sklearn.metrics import classification_report, confusion_matrix"
   ]
  },
  {
   "cell_type": "code",
   "execution_count": 9,
   "id": "038e3263",
   "metadata": {},
   "outputs": [
    {
     "name": "stderr",
     "output_type": "stream",
     "text": [
      "[nltk_data] Downloading package stopwords to\n",
      "[nltk_data]     C:\\Users\\nmlto\\AppData\\Roaming\\nltk_data...\n",
      "[nltk_data]   Package stopwords is already up-to-date!\n",
      "[nltk_data] Downloading package wordnet to\n",
      "[nltk_data]     C:\\Users\\nmlto\\AppData\\Roaming\\nltk_data...\n",
      "[nltk_data]   Package wordnet is already up-to-date!\n",
      "[nltk_data] Downloading package punkt to\n",
      "[nltk_data]     C:\\Users\\nmlto\\AppData\\Roaming\\nltk_data...\n",
      "[nltk_data]   Package punkt is already up-to-date!\n"
     ]
    }
   ],
   "source": [
    "# Download NLTK resources\n",
    "nltk.download('stopwords')\n",
    "nltk.download('wordnet')\n",
    "nltk.download('punkt')\n",
    "\n",
    "# Initialize lemmatizer and stopwords\n",
    "lemmatizer = WordNetLemmatizer()\n",
    "stop_words = set(stopwords.words('english'))\n",
    "\n",
    "def preprocess_text(text):\n",
    "    # Remove punctuation\n",
    "    text = re.sub(r'[^\\w\\s]', '', text)\n",
    "    # Tokenization\n",
    "    tokens = text.split()\n",
    "    # Remove stopwords and lemmatize\n",
    "    tokens = [lemmatizer.lemmatize(token.lower()) for token in tokens if token.lower() not in stop_words]\n",
    "    return ' '.join(tokens)\n",
    "\n",
    "# Apply preprocessing to the text data\n",
    "data['processed_reviews'] = data['review'].apply(preprocess_text)"
   ]
  },
  {
   "cell_type": "code",
   "execution_count": 10,
   "id": "68ef0cc3",
   "metadata": {},
   "outputs": [
    {
     "data": {
      "text/html": [
       "<div>\n",
       "<style scoped>\n",
       "    .dataframe tbody tr th:only-of-type {\n",
       "        vertical-align: middle;\n",
       "    }\n",
       "\n",
       "    .dataframe tbody tr th {\n",
       "        vertical-align: top;\n",
       "    }\n",
       "\n",
       "    .dataframe thead th {\n",
       "        text-align: right;\n",
       "    }\n",
       "</style>\n",
       "<table border=\"1\" class=\"dataframe\">\n",
       "  <thead>\n",
       "    <tr style=\"text-align: right;\">\n",
       "      <th></th>\n",
       "      <th>review</th>\n",
       "      <th>processed_reviews</th>\n",
       "    </tr>\n",
       "  </thead>\n",
       "  <tbody>\n",
       "    <tr>\n",
       "      <th>0</th>\n",
       "      <td>Filmed by MGM on the same sets as the English ...</td>\n",
       "      <td>filmed mgm set english version german garbo se...</td>\n",
       "    </tr>\n",
       "    <tr>\n",
       "      <th>1</th>\n",
       "      <td>From what I've read a lot of people were disap...</td>\n",
       "      <td>ive read lot people disappointed film compared...</td>\n",
       "    </tr>\n",
       "    <tr>\n",
       "      <th>2</th>\n",
       "      <td>In following the lines of the classic formula ...</td>\n",
       "      <td>following line classic formula point taking an...</td>\n",
       "    </tr>\n",
       "    <tr>\n",
       "      <th>3</th>\n",
       "      <td>The first \"side-story\" in the universal centur...</td>\n",
       "      <td>first sidestory universal century gundam unive...</td>\n",
       "    </tr>\n",
       "    <tr>\n",
       "      <th>4</th>\n",
       "      <td>Please make me forget. Please. Please. This is...</td>\n",
       "      <td>please make forget please please worst film ev...</td>\n",
       "    </tr>\n",
       "  </tbody>\n",
       "</table>\n",
       "</div>"
      ],
      "text/plain": [
       "                                              review  \\\n",
       "0  Filmed by MGM on the same sets as the English ...   \n",
       "1  From what I've read a lot of people were disap...   \n",
       "2  In following the lines of the classic formula ...   \n",
       "3  The first \"side-story\" in the universal centur...   \n",
       "4  Please make me forget. Please. Please. This is...   \n",
       "\n",
       "                                   processed_reviews  \n",
       "0  filmed mgm set english version german garbo se...  \n",
       "1  ive read lot people disappointed film compared...  \n",
       "2  following line classic formula point taking an...  \n",
       "3  first sidestory universal century gundam unive...  \n",
       "4  please make forget please please worst film ev...  "
      ]
     },
     "execution_count": 10,
     "metadata": {},
     "output_type": "execute_result"
    }
   ],
   "source": [
    "# Display the first few rows after preprocessing\n",
    "data[['review', 'processed_reviews']].head()"
   ]
  },
  {
   "cell_type": "markdown",
   "id": "93783572",
   "metadata": {},
   "source": [
    "The cleaned text is now in a form suitable for machine learning models by improving the quality and relevance of the features."
   ]
  },
  {
   "cell_type": "markdown",
   "id": "9d0c4884",
   "metadata": {},
   "source": [
    "#### TF-IDF Vectorization\n",
    "-------------\n",
    "We apply TF-IDF to transform text into numerical data, prioritizing words based on how frequently they appear and how rare they are. Restricting the features to the top 3000 reduces data complexity, prevents overfitting, and enhances model performance."
   ]
  },
  {
   "cell_type": "code",
   "execution_count": null,
   "id": "058feded",
   "metadata": {},
   "outputs": [],
   "source": [
    "pip install xgboost"
   ]
  },
  {
   "cell_type": "code",
   "execution_count": 39,
   "id": "f63e7175",
   "metadata": {},
   "outputs": [
    {
     "name": "stdout",
     "output_type": "stream",
     "text": [
      "Array of words (features):\n",
      "['10' '100' '1010' ... 'zero' 'zombie' 'zone']\n"
     ]
    }
   ],
   "source": [
    "# Initialize the TF-IDF Vectorizer with a specific number of features (3000 in this case)\n",
    "tfidf_vect = TfidfVectorizer(max_features=4000)\n",
    "X_tfidf = tfidf_vect.fit_transform(data['processed_reviews'])\n",
    "\n",
    "# Get the feature names (words) corresponding to the top features\n",
    "feature_names = tfidf_vect.get_feature_names_out()\n",
    "\n",
    "# Display the array of words\n",
    "print(\"Array of words (features):\")\n",
    "print(feature_names)"
   ]
  },
  {
   "cell_type": "markdown",
   "id": "8fe586c6",
   "metadata": {},
   "source": [
    "#### Encoding Sentiment Labels\n",
    "---------------\n",
    "The sentiment labels (positive/negative) are categorical. We use LabelEncoder to convert these labels into integers (0 for negative, 1 for positive) so that they can be processed by machine learning algorithms."
   ]
  },
  {
   "cell_type": "code",
   "execution_count": 40,
   "id": "8fde0170",
   "metadata": {},
   "outputs": [],
   "source": [
    "from sklearn.preprocessing import LabelEncoder\n",
    "\n",
    "label_encoder = LabelEncoder()\n",
    "y = label_encoder.fit_transform(data['sentiment'])  "
   ]
  },
  {
   "cell_type": "markdown",
   "id": "a6a931bd",
   "metadata": {},
   "source": [
    "#### Train-Test Split \n",
    "--------------\n",
    "To evaluate the model, we split the dataset into two parts:\n",
    "\n",
    "Training data (80%): Used to train the model and Test data (20%): Used to evaluate model performance.\n",
    "This ensures that the model is trained on one subset of data and evaluated on a separate subset, giving a more accurate estimate of performance."
   ]
  },
  {
   "cell_type": "code",
   "execution_count": 41,
   "id": "42743ca4",
   "metadata": {},
   "outputs": [],
   "source": [
    "# Split the data into training and testing sets\n",
    "X_train, X_test, y_train, y_test = train_test_split(X_tfidf, y, test_size=0.2, random_state=42)"
   ]
  },
  {
   "cell_type": "markdown",
   "id": "de926fa1",
   "metadata": {},
   "source": [
    "#### Model Training with GridSearchCV\n",
    "------------------\n",
    "We use two machine learning models, Random Forest and Gradient Boosting, and tune their hyperparameters using GridSearchCV. This method finds the best combination of hyperparameters by testing various options and using cross-validation."
   ]
  },
  {
   "cell_type": "code",
   "execution_count": 42,
   "id": "4ff15c72",
   "metadata": {},
   "outputs": [
    {
     "name": "stdout",
     "output_type": "stream",
     "text": [
      "Fitting 3 folds for each of 6 candidates, totalling 18 fits\n",
      "Fitting 3 folds for each of 12 candidates, totalling 36 fits\n",
      "Random Forest Best Params: {'max_depth': 20, 'n_estimators': 100}\n",
      "Gradient Boosting Best Params: {'learning_rate': 0.1, 'max_depth': 7, 'n_estimators': 100}\n"
     ]
    }
   ],
   "source": [
    "# Define parameter grids for both Random Forest and Gradient Boosting\n",
    "rf_params = {'n_estimators': [50, 100], 'max_depth': [10, 20, None]}\n",
    "gb_params = {'n_estimators': [50, 100], 'max_depth': [3, 5, 7], 'learning_rate': [0.1, 0.05]}\n",
    "\n",
    "# Initialize Random Forest and Gradient Boosting models\n",
    "rf_model = RandomForestClassifier()\n",
    "gb_model = GradientBoostingClassifier()\n",
    "\n",
    "# Initialize GridSearchCV for both models\n",
    "rf_grid = GridSearchCV(rf_model, rf_params, cv=3, n_jobs=-1, verbose=1)\n",
    "gb_grid = GridSearchCV(gb_model, gb_params, cv=3, n_jobs=-1, verbose=1)\n",
    "\n",
    "# Fit both models using GridSearchCV\n",
    "rf_grid.fit(X_train, y_train)\n",
    "gb_grid.fit(X_train, y_train)\n",
    "\n",
    "# Display best parameters for both models\n",
    "print(\"Random Forest Best Params:\", rf_grid.best_params_)\n",
    "print(\"Gradient Boosting Best Params:\", gb_grid.best_params_)\n",
    "\n",
    "# Evaluate the best models on the test set\n",
    "rf_best_model = rf_grid.best_estimator_\n",
    "gb_best_model = gb_grid.best_estimator_\n",
    "\n",
    "# Make predictions on the test set\n",
    "rf_predictions = rf_best_model.predict(X_test)\n",
    "gb_predictions = gb_best_model.predict(X_test)"
   ]
  },
  {
   "cell_type": "markdown",
   "id": "a15b9aaf",
   "metadata": {},
   "source": [
    "For Random Forest, the best parameters found are max_depth=20 and n_estimators=100, meaning it uses 20 tree depth and 100 trees. For Gradient Boosting, the best parameters are learning_rate=0.1, max_depth=7, and n_estimators=100, which control the model's learning rate, tree depth, and the number of trees, respectively."
   ]
  },
  {
   "cell_type": "markdown",
   "id": "70891c2a",
   "metadata": {},
   "source": [
    "#### Evaluation of the Best Model\n",
    "--------------------\n",
    "After training, we evaluate the models using the following metrics:\n",
    "\n",
    "- **Confusion Matrix**:  \n",
    "  A matrix that shows how well the model predicts positive and negative sentiments. It helps to understand the number of true positives, false positives, true negatives, and false negatives."
   ]
  },
  {
   "cell_type": "code",
   "execution_count": 43,
   "id": "75a7c236",
   "metadata": {},
   "outputs": [
    {
     "name": "stdout",
     "output_type": "stream",
     "text": [
      "Random Forest Confusion Matrix: \n",
      "\n",
      " [[654 146]\n",
      " [111 689]]\n",
      "Gradient Boosting Confusion Matrix: \n",
      "\n",
      " [[640 160]\n",
      " [113 687]]\n"
     ]
    }
   ],
   "source": [
    "# Evaluate Random Forest\n",
    "rf_best = rf_grid.best_estimator_\n",
    "y_pred_rf = rf_best.predict(X_test)\n",
    "\n",
    "# Evaluate Gradient Boosting\n",
    "gb_best = gb_grid.best_estimator_\n",
    "y_pred_gb = gb_best.predict(X_test)\n",
    "\n",
    "# Calculate and display evaluation metrics\n",
    "print(\"Random Forest Confusion Matrix: \\n\\n\",confusion_matrix(y_test, y_pred_rf))\n",
    "print(\"Gradient Boosting Confusion Matrix: \\n\\n\",confusion_matrix(y_test, y_pred_gb))"
   ]
  },
  {
   "cell_type": "code",
   "execution_count": 37,
   "id": "42b49037",
   "metadata": {},
   "outputs": [
    {
     "data": {
      "image/png": "[encoded data removed]",
      "text/plain": [
       "<Figure size 1200x500 with 4 Axes>"
      ]
     },
     "metadata": {},
     "output_type": "display_data"
    }
   ],
   "source": [
    "import seaborn as sns\n",
    "import matplotlib.pyplot as plt\n",
    "from sklearn.metrics import confusion_matrix\n",
    "\n",
    "# Confusion Matrix for Random Forest\n",
    "rf_cm = confusion_matrix(y_test, y_pred_rf)\n",
    "\n",
    "# Confusion Matrix for Gradient Boosting\n",
    "gb_cm = confusion_matrix(y_test, y_pred_gb)\n",
    "\n",
    "# Plotting Random Forest and Gradient Boosting Confusion Matrices side by side\n",
    "fig, axes = plt.subplots(1, 2, figsize=(12, 5)) \n",
    "\n",
    "# Random Forest Confusion Matrix\n",
    "sns.heatmap(rf_cm, annot=True, fmt='d', cmap='Blues', xticklabels=['Negative', 'Positive'], yticklabels=['Negative', 'Positive'], ax=axes[0])\n",
    "axes[0].set_title('Random Forest Confusion Matrix')\n",
    "axes[0].set_xlabel('Predicted')\n",
    "axes[0].set_ylabel('Actual')\n",
    "\n",
    "# Gradient Boosting Confusion Matrix\n",
    "sns.heatmap(gb_cm, annot=True, fmt='d', cmap='Blues', xticklabels=['Negative', 'Positive'], yticklabels=['Negative', 'Positive'], ax=axes[1])\n",
    "axes[1].set_title('Gradient Boosting Confusion Matrix')\n",
    "axes[1].set_xlabel('Predicted')\n",
    "axes[1].set_ylabel('Actual')\n",
    "\n",
    "# Show the plot\n",
    "plt.tight_layout()  \n",
    "plt.show()"
   ]
  },
  {
   "cell_type": "markdown",
   "id": "82522085",
   "metadata": {},
   "source": [
    "- **Classification Report**:  \n",
    "  This includes several important metrics:\n",
    "  - **Precision**: The proportion of true positive predictions out of all positive predictions made by the model.\n",
    "  - **Recall**: The proportion of true positive predictions out of all actual positive instances in the dataset.\n",
    "  - **F1-score**: The harmonic mean of precision and recall, offering a balanced measure of the model's performance.\n",
    "  ------------"
   ]
  },
  {
   "cell_type": "code",
   "execution_count": 44,
   "id": "ff97c572",
   "metadata": {},
   "outputs": [
    {
     "name": "stdout",
     "output_type": "stream",
     "text": [
      "\n",
      "Random Forest Classification Report: \n",
      "\n",
      "               precision    recall  f1-score   support\n",
      "\n",
      "           0       0.85      0.82      0.84       800\n",
      "           1       0.83      0.86      0.84       800\n",
      "\n",
      "    accuracy                           0.84      1600\n",
      "   macro avg       0.84      0.84      0.84      1600\n",
      "weighted avg       0.84      0.84      0.84      1600\n",
      "\n",
      "\n",
      "Gradient Boosting Classification Report: \n",
      "\n",
      "               precision    recall  f1-score   support\n",
      "\n",
      "           0       0.85      0.80      0.82       800\n",
      "           1       0.81      0.86      0.83       800\n",
      "\n",
      "    accuracy                           0.83      1600\n",
      "   macro avg       0.83      0.83      0.83      1600\n",
      "weighted avg       0.83      0.83      0.83      1600\n",
      "\n"
     ]
    }
   ],
   "source": [
    "print(\"\\nRandom Forest Classification Report: \\n\\n\",classification_report(y_test, y_pred_rf))\n",
    "print(\"\\nGradient Boosting Classification Report: \\n\\n\",classification_report(y_test, y_pred_gb))"
   ]
  },
  {
   "cell_type": "code",
   "execution_count": 38,
   "id": "5d616a10",
   "metadata": {},
   "outputs": [
    {
     "data": {
      "image/png": "[encoded data removed]",
      "text/plain": [
       "<Figure size 600x400 with 1 Axes>"
      ]
     },
     "metadata": {},
     "output_type": "display_data"
    }
   ],
   "source": [
    "from sklearn.metrics import precision_recall_curve, average_precision_score\n",
    "\n",
    "# Precision-Recall Curve for Random Forest\n",
    "precision_rf, recall_rf, _ = precision_recall_curve(y_test, rf_best.predict_proba(X_test)[:, 1])\n",
    "avg_precision_rf = average_precision_score(y_test, rf_best.predict_proba(X_test)[:, 1])\n",
    "\n",
    "# Precision-Recall Curve for Gradient Boosting\n",
    "precision_gb, recall_gb, _ = precision_recall_curve(y_test, gb_best.predict_proba(X_test)[:, 1])\n",
    "avg_precision_gb = average_precision_score(y_test, gb_best.predict_proba(X_test)[:, 1])\n",
    "\n",
    "# Plotting Precision-Recall curve for both models with smaller figure and added features\n",
    "plt.figure(figsize=(6, 4))  # Smaller figure size\n",
    "plt.plot(recall_rf, precision_rf, label=f'Random Forest (AP={avg_precision_rf:.2f})', color='darkgreen', linestyle='-', linewidth=2)\n",
    "plt.plot(recall_gb, precision_gb, label=f'Gradient Boosting (AP={avg_precision_gb:.2f})', color='dodgerblue', linestyle='--', linewidth=2)\n",
    "\n",
    "# Adding gridlines\n",
    "plt.grid(True, linestyle=':', color='gray', alpha=0.5)\n",
    "\n",
    "# Adding titles and labels\n",
    "plt.xlabel('Recall', fontsize=12)\n",
    "plt.ylabel('Precision', fontsize=12)\n",
    "plt.title('Precision-Recall Curve', fontsize=14)\n",
    "\n",
    "# Displaying the legend with a title and custom position\n",
    "plt.legend(loc='lower left', title='Model', fontsize=10)\n",
    "\n",
    "# Display the plot\n",
    "plt.tight_layout()  \n",
    "plt.show()"
   ]
  },
  {
   "cell_type": "markdown",
   "id": "5dc3fa73",
   "metadata": {},
   "source": [
    "\n",
    "\n"
   ]
  },
  {
   "cell_type": "markdown",
   "id": "3a510e09",
   "metadata": {},
   "source": [
    "### Conclusion and Model Performance Comparison\n",
    "\n",
    "#### **Confusion Matrix Insights:**\n",
    "- **Random Forest:**\n",
    "  - **True Negatives (TN):** 654, **False Positives (FP):** 146\n",
    "  - **False Negatives (FN):** 111, **True Positives (TP):** 689\n",
    "- **Gradient Boosting:**\n",
    "  - **True Negatives (TN):** 640, **False Positives (FP):** 160\n",
    "  - **False Negatives (FN):** 113, **True Positives (TP):** 687\n",
    "\n",
    "Both models show similar performance, with Random Forest having a slight edge in true negatives.\n",
    "\n",
    "#### **Classification Report:**\n",
    "- **Precision:**\n",
    "  - Random Forest: 0.85 (class 0), 0.83 (class 1)\n",
    "  - Gradient Boosting: 0.85 (class 0), 0.81 (class 1)\n",
    "  - **Random Forest** outperforms for class 1.\n",
    "\n",
    "- **Recall:**\n",
    "  - Random Forest: 0.82 (class 0), 0.86 (class 1)\n",
    "  - Gradient Boosting: 0.80 (class 0), 0.86 (class 1)\n",
    "  - Both models are similar for class 1, but **Random Forest** performs better for class 0.\n",
    "\n",
    "- **F1-Score:**\n",
    "  - Random Forest: 0.84 (both classes)\n",
    "  - Gradient Boosting: 0.82 (class 0), 0.83 (class 1)\n",
    "  - **Random Forest** has a higher overall F1-score.\n",
    "\n",
    "- **Accuracy:**\n",
    "  - Random Forest: 84%\n",
    "  - Gradient Boosting: 83%\n",
    "  - **Random Forest** is slightly more accurate.\n",
    "\n",
    "#### **Key Insights:**\n",
    "- **Random Forest** outperforms **Gradient Boosting** in accuracy, F1-score, and class 1 precision.\n",
    "- Both models handle false positives and negatives well, but **Random Forest** is better at predicting class 1.\n",
    "\n",
    "#### **Conclusion:**\n",
    "While both models perform well, **Random Forest** shows a slight advantage in terms of accuracy, precision, and F1-score. The differences are likely due to Random Forest's ensemble method, which tends to generalize better, compared to Gradient Boosting’s sensitivity to overfitting.\n"
   ]
  }
 ],
 "metadata": {
  "kernelspec": {
   "display_name": "Python 3 (ipykernel)",
   "language": "python",
   "name": "python3"
  },
  "language_info": {
   "codemirror_mode": {
    "name": "ipython",
    "version": 3
   },
   "file_extension": ".py",
   "mimetype": "text/x-python",
   "name": "python",
   "nbconvert_exporter": "python",
   "pygments_lexer": "ipython3",
   "version": "3.11.5"
  }
 },
 "nbformat": 4,
 "nbformat_minor": 5
}
